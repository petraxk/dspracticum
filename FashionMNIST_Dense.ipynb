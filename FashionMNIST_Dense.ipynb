{
  "cells": [
    {
      "cell_type": "markdown",
      "metadata": {
        "id": "B5j8Ih8JeWh8"
      },
      "source": [
        "Let's build a simple neural network to classify images from the FashionMNIST dataset.\n",
        "\n",
        "**1. Import Libraries**"
      ]
    },
    {
      "cell_type": "code",
      "execution_count": 1,
      "metadata": {
        "id": "MBQVdt1S-MT9"
      },
      "outputs": [],
      "source": [
        "import torch\n",
        "import torch.nn as nn\n",
        "import torch.nn.functional as F\n",
        "import torch.optim as optim\n",
        "from torchvision import datasets, transforms"
      ]
    },
    {
      "cell_type": "markdown",
      "metadata": {
        "id": "zhodnFckeudX"
      },
      "source": [
        "*Checking for GPU Availability*\n",
        "\n",
        "This code checks if a CUDA-enabled GPU is available and sets the `device` accordingly. If no GPU is available, it defaults to the CPU."
      ]
    },
    {
      "cell_type": "code",
      "execution_count": 2,
      "metadata": {
        "colab": {
          "base_uri": "https://localhost:8080/"
        },
        "id": "7dFBM3DFB60w",
        "outputId": "a87d4d59-a375-478e-d332-fbdd0dd3e8ac"
      },
      "outputs": [
        {
          "name": "stdout",
          "output_type": "stream",
          "text": [
            "Using device: cuda\n"
          ]
        }
      ],
      "source": [
        "# Check if GPU is available\n",
        "device = torch.device('cuda' if torch.cuda.is_available() else 'cpu')\n",
        "print(f'Using device: {device}')"
      ]
    },
    {
      "cell_type": "code",
      "execution_count": null,
      "metadata": {
        "id": "5lIe0aFu8Cv4"
      },
      "outputs": [],
      "source": [
        "# menit se muze:\n",
        "# learning rate, batch size, pocet vrstev a pocet neuronu, pocet epoch treninku\n",
        "\n",
        "# nejvyssi accuracy (86.8 %) se dosahlo pri nastaveni parametru nasledovne:\n",
        "# BATCH_SIZE = 64, LR = 0.075, EPOCH = 10, OSTATNI SAME"
      ]
    },
    {
      "cell_type": "markdown",
      "metadata": {
        "id": "Abf1Alkfe302"
      },
      "source": [
        "**2. Data Preparation**"
      ]
    },
    {
      "cell_type": "code",
      "execution_count": 8,
      "metadata": {
        "id": "K47TtwmA-Z8x"
      },
      "outputs": [],
      "source": [
        "# Define a transform to convert images to tensors\n",
        "transform = transforms.ToTensor()\n",
        "\n",
        "# Download and load the training data\n",
        "train_set = datasets.FashionMNIST(root='./data', train=True, download=True, transform=transform)\n",
        "train_loader = torch.utils.data.DataLoader(train_set, batch_size=64, shuffle=True)\n",
        "\n",
        "# Download and load the test data\n",
        "test_set = datasets.FashionMNIST(root='./data', train=False, download=True, transform=transform)\n",
        "test_loader = torch.utils.data.DataLoader(test_set, batch_size=64, shuffle=False)"
      ]
    },
    {
      "cell_type": "markdown",
      "metadata": {
        "id": "KD7S6DsPe8ym"
      },
      "source": [
        "**3. Neural Network Model**"
      ]
    },
    {
      "cell_type": "code",
      "execution_count": 9,
      "metadata": {
        "colab": {
          "base_uri": "https://localhost:8080/"
        },
        "id": "twFKRzDA-lnB",
        "outputId": "e01977b7-89e9-42b2-d6e4-bc15c9ac27a6"
      },
      "outputs": [
        {
          "data": {
            "text/plain": [
              "DenseNet(\n",
              "  (flatten): Flatten(start_dim=1, end_dim=-1)\n",
              "  (fc1): Linear(in_features=784, out_features=128, bias=True)\n",
              "  (fc2): Linear(in_features=128, out_features=10, bias=True)\n",
              ")"
            ]
          },
          "execution_count": 9,
          "metadata": {},
          "output_type": "execute_result"
        }
      ],
      "source": [
        "class DenseNet(nn.Module):\n",
        "    def __init__(self):\n",
        "        super(DenseNet, self).__init__()\n",
        "        self.flatten = nn.Flatten()\n",
        "        self.fc1 = nn.Linear(28 * 28, 128)\n",
        "        self.fc2 = nn.Linear(128, 10)\n",
        "\n",
        "    def forward(self, x):\n",
        "        x = self.flatten(x)\n",
        "        x = F.relu(self.fc1(x))\n",
        "        logits = self.fc2(x)\n",
        "        return logits\n",
        "\n",
        "model = DenseNet().to(device)\n",
        "model"
      ]
    },
    {
      "cell_type": "markdown",
      "metadata": {
        "id": "_1FrTseTgr29"
      },
      "source": [
        "**4. Loss & Optimizer**"
      ]
    },
    {
      "cell_type": "code",
      "execution_count": 10,
      "metadata": {
        "id": "IJPpEm9n-zB6"
      },
      "outputs": [],
      "source": [
        "criterion = nn.CrossEntropyLoss()\n",
        "optimizer = optim.SGD(model.parameters(), lr=0.075)"
      ]
    },
    {
      "cell_type": "markdown",
      "metadata": {
        "id": "HncQZoLcgywM"
      },
      "source": [
        "**5. Training loop**"
      ]
    },
    {
      "cell_type": "code",
      "execution_count": 11,
      "metadata": {
        "colab": {
          "base_uri": "https://localhost:8080/"
        },
        "id": "5PYUAF99_Qsc",
        "outputId": "63b7cd19-15fe-4968-c5b4-6230f7c03129"
      },
      "outputs": [
        {
          "name": "stdout",
          "output_type": "stream",
          "text": [
            "Epoch [1/10], Loss: 0.6560\n",
            "Epoch [2/10], Loss: 0.4581\n",
            "Epoch [3/10], Loss: 0.4134\n",
            "Epoch [4/10], Loss: 0.3856\n",
            "Epoch [5/10], Loss: 0.3668\n",
            "Epoch [6/10], Loss: 0.3509\n",
            "Epoch [7/10], Loss: 0.3378\n",
            "Epoch [8/10], Loss: 0.3280\n",
            "Epoch [9/10], Loss: 0.3181\n",
            "Epoch [10/10], Loss: 0.3081\n"
          ]
        }
      ],
      "source": [
        "for epoch in range(10):  # Train for 5 epochs\n",
        "    running_loss = 0.0\n",
        "    for images, labels in train_loader:\n",
        "        # Move images and labels to the device\n",
        "        images = images.to(device)\n",
        "        labels = labels.to(device)\n",
        "\n",
        "        # Zero the parameter gradients\n",
        "        optimizer.zero_grad()\n",
        "\n",
        "        # Forward pass\n",
        "        outputs = model(images)\n",
        "        loss = criterion(outputs, labels)\n",
        "\n",
        "        # Backward pass and optimize\n",
        "        loss.backward()\n",
        "        optimizer.step()\n",
        "\n",
        "        running_loss += loss.item()\n",
        "\n",
        "    print(f'Epoch [{epoch+1}/10], Loss: {running_loss / len(train_loader):.4f}')"
      ]
    },
    {
      "cell_type": "markdown",
      "metadata": {
        "id": "u4qK5d5Og608"
      },
      "source": [
        "**6. Evaluation on the test set**"
      ]
    },
    {
      "cell_type": "code",
      "execution_count": 12,
      "metadata": {
        "colab": {
          "base_uri": "https://localhost:8080/"
        },
        "id": "HQTk85Jt_TXb",
        "outputId": "ba6ab4ce-56fd-4ba1-ea2b-c3a49f8aedc2"
      },
      "outputs": [
        {
          "name": "stdout",
          "output_type": "stream",
          "text": [
            "Accuracy: 86.79 %\n"
          ]
        }
      ],
      "source": [
        "correct = 0\n",
        "total = 0\n",
        "with torch.no_grad():  # Disable gradient calculation for evaluation\n",
        "    for images, labels in test_loader:\n",
        "        # Move images and labels to the device\n",
        "        images = images.to(device)\n",
        "        labels = labels.to(device)\n",
        "\n",
        "        outputs = model(images)\n",
        "        _, predicted = torch.max(outputs, 1)\n",
        "        total += labels.size(0)\n",
        "        correct += (predicted == labels).sum().item()\n",
        "\n",
        "print(f'Accuracy: {100 * correct / total:.2f} %')"
      ]
    },
    {
      "cell_type": "code",
      "execution_count": null,
      "metadata": {
        "id": "WeLdrT_jC4wn"
      },
      "outputs": [],
      "source": [
        "# PUVODNI PARAMETRY, lr = 0.002, batch size = 256, pocet plne propojenych vrstve 2, prvni vrstva ma 128 neuronu a druha ma 10 neuronu\n",
        "\"\"\"\n",
        "Epoch [1/5], Loss: 2.2172\n",
        "Epoch [2/5], Loss: 2.0163\n",
        "Epoch [3/5], Loss: 1.7878\n",
        "Epoch [4/5], Loss: 1.5664\n",
        "Epoch [5/5], Loss: 1.3883\n",
        "Accuracy: 64.78 %\n",
        "\"\"\"\n",
        "\n",
        "# BATCH_SIZE = 128, JINAK VSE STEJNE\n",
        "\"\"\"\n",
        "Epoch [1/5], Loss: 2.0552\n",
        "Epoch [2/5], Loss: 1.6015\n",
        "Epoch [3/5], Loss: 1.2802\n",
        "Epoch [4/5], Loss: 1.0900\n",
        "Epoch [5/5], Loss: 0.9745\n",
        "Accuracy: 68.17 %\n",
        "\"\"\"\n",
        "\n",
        "# BATCH_SIZE = 64, JINAK VSE STEJNE\n",
        "\"\"\"\n",
        "Epoch [1/5], Loss: 1.9021\n",
        "Epoch [2/5], Loss: 1.2404\n",
        "Epoch [3/5], Loss: 0.9650\n",
        "Epoch [4/5], Loss: 0.8451\n",
        "Epoch [5/5], Loss: 0.7761\n",
        "Accuracy: 73.54 %\n",
        "\"\"\"\n",
        "\n",
        "# BATCH_SIZE = 64,  LR = 0.001, JINAK VSE STEJNE\n",
        "\"\"\"\n",
        "Epoch [1/5], Loss: 2.0752\n",
        "Epoch [2/5], Loss: 1.6322\n",
        "Epoch [3/5], Loss: 1.3069\n",
        "Epoch [4/5], Loss: 1.1152\n",
        "Epoch [5/5], Loss: 0.9980\n",
        "Accuracy: 67.49 %\n",
        "\"\"\"\n",
        "\n",
        "# BATCH_SIZE = 128, LR = 0.001, JINAK VSE STEJNE\n",
        "\"\"\"\n",
        "Epoch [1/5], Loss: 2.1878\n",
        "Epoch [2/5], Loss: 1.9595\n",
        "Epoch [3/5], Loss: 1.7320\n",
        "Epoch [4/5], Loss: 1.5268\n",
        "Epoch [5/5], Loss: 1.3646\n",
        "Accuracy: 65.06 %\n",
        "\"\"\"\n",
        "\n",
        "# BATCH_SIZE = 64, LR = 0.002, EPOCH = 10, JINAK SAME\n",
        "\"\"\"\n",
        "Epoch [1/10], Loss: 1.8997\n",
        "Epoch [2/10], Loss: 1.2391\n",
        "Epoch [3/10], Loss: 0.9627\n",
        "Epoch [4/10], Loss: 0.8408\n",
        "Epoch [5/10], Loss: 0.7701\n",
        "Epoch [6/10], Loss: 0.7214\n",
        "Epoch [7/10], Loss: 0.6845\n",
        "Epoch [8/10], Loss: 0.6549\n",
        "Epoch [9/10], Loss: 0.6306\n",
        "Epoch [10/10], Loss: 0.6102\n",
        "Accuracy: 78.89 %\n",
        "\"\"\"\n",
        "\n",
        "# BATCH_SIZE = 64, LR = 0.005, EPOCHY = 10, JINAK SAME\n",
        "\"\"\"\n",
        "Epoch [1/10], Loss: 1.4442\n",
        "Epoch [2/10], Loss: 0.8317\n",
        "Epoch [3/10], Loss: 0.7027\n",
        "Epoch [4/10], Loss: 0.6343\n",
        "Epoch [5/10], Loss: 0.5897\n",
        "Epoch [6/10], Loss: 0.5585\n",
        "Epoch [7/10], Loss: 0.5356\n",
        "Epoch [8/10], Loss: 0.5181\n",
        "Epoch [9/10], Loss: 0.5039\n",
        "Epoch [10/10], Loss: 0.4928\n",
        "Accuracy: 82.01 %\n",
        "\"\"\"\n",
        "\n",
        "# BATCH_SIZE = 64, LR = 0.005, EPOCHY = 10, 3 VRSTVY NEURONU, PRVNI VRSTVA 128 NEURONU, DRUHA VRSTVA 64 NEURONU, TRETI VRSTVA 10 NEURONU\n",
        "\"\"\"\n",
        "Epoch [1/10], Loss: 1.9046\n",
        "Epoch [2/10], Loss: 1.0124\n",
        "Epoch [3/10], Loss: 0.7738\n",
        "Epoch [4/10], Loss: 0.6863\n",
        "Epoch [5/10], Loss: 0.6297\n",
        "Epoch [6/10], Loss: 0.5882\n",
        "Epoch [7/10], Loss: 0.5560\n",
        "Epoch [8/10], Loss: 0.5315\n",
        "Epoch [9/10], Loss: 0.5133\n",
        "Epoch [10/10], Loss: 0.4976\n",
        "Accuracy: 81.62 %\n",
        "\"\"\"\n",
        "\n",
        "# BATCH_SIZE = 64, LR = 0.005, EPOCHY = 5, 3 VRSTVY NEURONU, PRVNI VRSTVA 256 NEURONU, DRUHA 128 NEURONU, TRETI 10\n",
        "\"\"\"\n",
        "Epoch [1/10], Loss: 1.6290\n",
        "Epoch [2/10], Loss: 1.6011\n",
        "Epoch [3/10], Loss: 1.5778\n",
        "Epoch [4/10], Loss: 1.5571\n",
        "Epoch [5/10], Loss: 1.5384\n",
        "Epoch [6/10], Loss: 1.5231\n",
        "Epoch [7/10], Loss: 1.5105\n",
        "Epoch [8/10], Loss: 1.5002\n",
        "Epoch [9/10], Loss: 1.4921\n",
        "Epoch [10/10], Loss: 1.4845\n",
        "Accuracy: 48.50 %\n",
        "\"\"\"\n",
        "\n",
        "# BATCH_SIZE = 64, LR = 0.005, EPOCH = 10, JINAK SAME\n",
        "\"\"\"\n",
        "Epoch [1/10], Loss: 1.4442\n",
        "Epoch [2/10], Loss: 0.8317\n",
        "Epoch [3/10], Loss: 0.7027\n",
        "Epoch [4/10], Loss: 0.6343\n",
        "Epoch [5/10], Loss: 0.5897\n",
        "Epoch [6/10], Loss: 0.5585\n",
        "Epoch [7/10], Loss: 0.5356\n",
        "Epoch [8/10], Loss: 0.5181\n",
        "Epoch [9/10], Loss: 0.5039\n",
        "Epoch [10/10], Loss: 0.4928\n",
        "Accuracy: 82.01 %\n",
        "\"\"\"\n",
        "# BATCH_SIZE = 64, LR = 0.075, EPOCH = 10, OSTATNI SAME\n",
        "\"\"\"\n",
        "Epoch [1/10], Loss: 0.6560\n",
        "Epoch [2/10], Loss: 0.4581\n",
        "Epoch [3/10], Loss: 0.4134\n",
        "Epoch [4/10], Loss: 0.3856\n",
        "Epoch [5/10], Loss: 0.3668\n",
        "Epoch [6/10], Loss: 0.3509\n",
        "Epoch [7/10], Loss: 0.3378\n",
        "Epoch [8/10], Loss: 0.3280\n",
        "Epoch [9/10], Loss: 0.3181\n",
        "Epoch [10/10], Loss: 0.3081\n",
        "Accuracy: 86.79 %\n",
        "\"\"\"\n",
        "\n"
      ]
    }
  ],
  "metadata": {
    "accelerator": "GPU",
    "colab": {
      "gpuType": "T4",
      "provenance": []
    },
    "kernelspec": {
      "display_name": "Python 3",
      "name": "python3"
    },
    "language_info": {
      "name": "python"
    }
  },
  "nbformat": 4,
  "nbformat_minor": 0
}
