{
  "cells": [
    {
      "cell_type": "markdown",
      "metadata": {
        "id": "B5j8Ih8JeWh8"
      },
      "source": [
        "Let's build a simple neural network to classify images from the FashionMNIST dataset.\n",
        "\n",
        "**1. Import Libraries**"
      ]
    },
    {
      "cell_type": "code",
      "execution_count": 1,
      "metadata": {
        "id": "MBQVdt1S-MT9"
      },
      "outputs": [],
      "source": [
        "import torch\n",
        "import torch.nn as nn\n",
        "import torch.nn.functional as F\n",
        "import torch.optim as optim\n",
        "from torchvision import datasets, transforms"
      ]
    },
    {
      "cell_type": "markdown",
      "metadata": {
        "id": "zhodnFckeudX"
      },
      "source": [
        "*Checking for GPU Availability*\n",
        "\n",
        "This code checks if a CUDA-enabled GPU is available and sets the `device` accordingly. If no GPU is available, it defaults to the CPU."
      ]
    },
    {
      "cell_type": "code",
      "execution_count": 62,
      "metadata": {
        "colab": {
          "base_uri": "https://localhost:8080/"
        },
        "id": "7dFBM3DFB60w",
        "outputId": "faaceea2-ab6b-4529-a689-68536debdc6c"
      },
      "outputs": [
        {
          "name": "stdout",
          "output_type": "stream",
          "text": [
            "Using device: cuda\n"
          ]
        }
      ],
      "source": [
        "# Check if GPU is available\n",
        "device = torch.device('cuda' if torch.cuda.is_available() else 'cpu')\n",
        "print(f'Using device: {device}')"
      ]
    },
    {
      "cell_type": "code",
      "execution_count": null,
      "metadata": {
        "id": "Q-EBtb-ArFjZ"
      },
      "outputs": [],
      "source": [
        "# menit se muze:\n",
        "# learning rate, batch size, pocet vrstev a pocet neuronu v nich, pocet epoch, dropout, pocet filtru/kanalu, padding, stride\n",
        "\n",
        "# nejvyssi accuracy (90.2 %) se dosahlo pri nastaveni parametru nasledovne:\n",
        "# BATCH_SIZE = 64, LR = 0.075, EPOCH = 10, DROPOUT = 0.15, OSTATNI SAME"
      ]
    },
    {
      "cell_type": "markdown",
      "metadata": {
        "id": "Abf1Alkfe302"
      },
      "source": [
        "**2. Data Preparation**"
      ]
    },
    {
      "cell_type": "code",
      "execution_count": 63,
      "metadata": {
        "id": "K47TtwmA-Z8x"
      },
      "outputs": [],
      "source": [
        "# Define a transform to convert images to tensors\n",
        "transform = transforms.ToTensor()\n",
        "\n",
        "# Download and load the training data\n",
        "train_set = datasets.FashionMNIST(root='./data', train=True, download=True, transform=transform)\n",
        "train_loader = torch.utils.data.DataLoader(train_set, batch_size=64, shuffle=True)\n",
        "\n",
        "# Download and load the test data\n",
        "test_set = datasets.FashionMNIST(root='./data', train=False, download=True, transform=transform)\n",
        "test_loader = torch.utils.data.DataLoader(test_set, batch_size=64, shuffle=False)"
      ]
    },
    {
      "cell_type": "markdown",
      "metadata": {
        "id": "KD7S6DsPe8ym"
      },
      "source": [
        "**3. Neural Network Model**"
      ]
    },
    {
      "cell_type": "code",
      "execution_count": 64,
      "metadata": {
        "colab": {
          "base_uri": "https://localhost:8080/"
        },
        "id": "twFKRzDA-lnB",
        "outputId": "0df6bbb7-fcf2-4fb8-c3e1-dfd9f6289ff8"
      },
      "outputs": [
        {
          "data": {
            "text/plain": [
              "SimpleCNN(\n",
              "  (conv1): Conv2d(1, 32, kernel_size=(3, 3), stride=(1, 1))\n",
              "  (conv2): Conv2d(32, 64, kernel_size=(3, 3), stride=(1, 1))\n",
              "  (flat): Flatten(start_dim=1, end_dim=-1)\n",
              "  (fc1): Linear(in_features=36864, out_features=128, bias=True)\n",
              "  (drop): Dropout(p=0.15, inplace=False)\n",
              "  (fc2): Linear(in_features=128, out_features=10, bias=True)\n",
              ")"
            ]
          },
          "execution_count": 64,
          "metadata": {},
          "output_type": "execute_result"
        }
      ],
      "source": [
        "class SimpleCNN(nn.Module):\n",
        "    def __init__(self):\n",
        "        super(SimpleCNN, self).__init__()\n",
        "        self.conv1 = nn.Conv2d(in_channels=1, out_channels=32, kernel_size=3)\n",
        "        self.conv2 = nn.Conv2d(in_channels=32, out_channels=64, kernel_size=3)\n",
        "        self.flat = nn.Flatten()\n",
        "        self.fc1 = nn.Linear(in_features=24*24*64, out_features=128)\n",
        "        self.drop = nn.Dropout(0.15)\n",
        "        self.fc2 = nn.Linear(in_features=128, out_features=10)\n",
        "\n",
        "    def forward(self, x):\n",
        "        x = F.relu(self.conv1(x))\n",
        "        x = F.relu(self.conv2(x))\n",
        "        x = self.flat(x)\n",
        "        x = F.relu(self.fc1(x))\n",
        "        x = self.drop(x)\n",
        "        x = self.fc2(x)\n",
        "        return x\n",
        "\n",
        "model = SimpleCNN().to(device)\n",
        "model"
      ]
    },
    {
      "cell_type": "markdown",
      "metadata": {
        "id": "_1FrTseTgr29"
      },
      "source": [
        "**4. Loss & Optimizer**"
      ]
    },
    {
      "cell_type": "code",
      "execution_count": 65,
      "metadata": {
        "id": "IJPpEm9n-zB6"
      },
      "outputs": [],
      "source": [
        "criterion = nn.CrossEntropyLoss()\n",
        "optimizer = optim.SGD(model.parameters(), lr=0.075)"
      ]
    },
    {
      "cell_type": "markdown",
      "metadata": {
        "id": "HncQZoLcgywM"
      },
      "source": [
        "**5. Training loop**"
      ]
    },
    {
      "cell_type": "code",
      "execution_count": 66,
      "metadata": {
        "colab": {
          "base_uri": "https://localhost:8080/"
        },
        "id": "5PYUAF99_Qsc",
        "outputId": "d22700a2-1f84-425a-86a2-b03777adf646"
      },
      "outputs": [
        {
          "name": "stdout",
          "output_type": "stream",
          "text": [
            "Epoch [1/10], Loss: 0.6077\n",
            "Epoch [2/10], Loss: 0.3780\n",
            "Epoch [3/10], Loss: 0.3201\n",
            "Epoch [4/10], Loss: 0.2833\n",
            "Epoch [5/10], Loss: 0.2551\n",
            "Epoch [6/10], Loss: 0.2287\n",
            "Epoch [7/10], Loss: 0.2058\n",
            "Epoch [8/10], Loss: 0.1872\n",
            "Epoch [9/10], Loss: 0.1689\n",
            "Epoch [10/10], Loss: 0.1493\n"
          ]
        }
      ],
      "source": [
        "for epoch in range(10):  # Train for _ epochs\n",
        "    running_loss = 0.0\n",
        "    for images, labels in train_loader:\n",
        "        # Move images and labels to the device\n",
        "        images = images.to(device)\n",
        "        labels = labels.to(device)\n",
        "\n",
        "        # Zero the parameter gradients\n",
        "        optimizer.zero_grad()\n",
        "\n",
        "        # Forward pass\n",
        "        outputs = model(images)\n",
        "        loss = criterion(outputs, labels)\n",
        "\n",
        "        # Backward pass and optimize\n",
        "        loss.backward()\n",
        "        optimizer.step()\n",
        "\n",
        "        running_loss += loss.item()\n",
        "\n",
        "    print(f'Epoch [{epoch+1}/10], Loss: {running_loss / len(train_loader):.4f}')"
      ]
    },
    {
      "cell_type": "markdown",
      "metadata": {
        "id": "u4qK5d5Og608"
      },
      "source": [
        "**6. Evaluation on the test set**"
      ]
    },
    {
      "cell_type": "code",
      "execution_count": 67,
      "metadata": {
        "colab": {
          "base_uri": "https://localhost:8080/"
        },
        "id": "HQTk85Jt_TXb",
        "outputId": "fe01833a-2351-4434-cb22-1d019e4d834c"
      },
      "outputs": [
        {
          "name": "stdout",
          "output_type": "stream",
          "text": [
            "Accuracy: 90.22 %\n"
          ]
        }
      ],
      "source": [
        "correct = 0\n",
        "total = 0\n",
        "with torch.no_grad():  # Disable gradient calculation for evaluation\n",
        "    for images, labels in test_loader:\n",
        "        # Move images and labels to the device\n",
        "        images = images.to(device)\n",
        "        labels = labels.to(device)\n",
        "\n",
        "        outputs = model(images)\n",
        "        _, predicted = torch.max(outputs, 1)\n",
        "        total += labels.size(0)\n",
        "        correct += (predicted == labels).sum().item()\n",
        "\n",
        "print(f'Accuracy: {100 * correct / total:.2f} %')"
      ]
    },
    {
      "cell_type": "code",
      "execution_count": null,
      "metadata": {
        "id": "WeLdrT_jC4wn"
      },
      "outputs": [],
      "source": [
        "# PUVODNI PARAMETRY, BATCH_SIZE = 256, LR = 0.02, EPOCH = 5, KERNEL = 3, ...\n",
        "\"\"\"\n",
        "Epoch [1/5], Loss: 0.9816\n",
        "Epoch [2/5], Loss: 0.6117\n",
        "Epoch [3/5], Loss: 0.5575\n",
        "Epoch [4/5], Loss: 0.5237\n",
        "Epoch [5/5], Loss: 0.4974\n",
        "Accuracy: 78.52 %\n",
        "\"\"\"\n",
        "\n",
        "# BATCH_SIZE = 128, OSTATNI SAME\n",
        "\"\"\"\n",
        "Epoch [1/5], Loss: 0.8287\n",
        "Epoch [2/5], Loss: 0.5709\n",
        "Epoch [3/5], Loss: 0.5148\n",
        "Epoch [4/5], Loss: 0.4796\n",
        "Epoch [5/5], Loss: 0.4544\n",
        "Accuracy: 80.08 %\n",
        "\"\"\"\n",
        "\n",
        "# BATCH_SIZE = 64, OSTATNI SAME\n",
        "\"\"\"\n",
        "Epoch [1/5], Loss: 0.7269\n",
        "Epoch [2/5], Loss: 0.5063\n",
        "Epoch [3/5], Loss: 0.4426\n",
        "Epoch [4/5], Loss: 0.4001\n",
        "Epoch [5/5], Loss: 0.3696\n",
        "Accuracy: 85.60 %\n",
        "\"\"\"\n",
        "\n",
        "# BATCH_SIZE = 64, LR = 0.002, OSTATNI SAME\n",
        "\"\"\"\n",
        "Epoch [1/5], Loss: 1.2327\n",
        "Epoch [2/5], Loss: 0.6571\n",
        "Epoch [3/5], Loss: 0.5848\n",
        "Epoch [4/5], Loss: 0.5468\n",
        "Epoch [5/5], Loss: 0.5184\n",
        "Accuracy: 80.49 %\n",
        "\"\"\"\n",
        "\n",
        "# BATCH_SIZE = 64, LR = 0.002, EPOCH = 10, OSTATNI SAME\n",
        "\"\"\"\n",
        "Epoch [1/10], Loss: 1.3182\n",
        "Epoch [2/10], Loss: 0.6681\n",
        "Epoch [3/10], Loss: 0.5879\n",
        "Epoch [4/10], Loss: 0.5436\n",
        "Epoch [5/10], Loss: 0.5170\n",
        "Epoch [6/10], Loss: 0.4948\n",
        "Epoch [7/10], Loss: 0.4784\n",
        "Epoch [8/10], Loss: 0.4654\n",
        "Epoch [9/10], Loss: 0.4535\n",
        "Epoch [10/10], Loss: 0.4419\n",
        "Accuracy: 82.72 %\n",
        "\"\"\"\n",
        "\n",
        "# BATCH_SIZE = 64, LR = 0.005, EPOCH = 10, OSTATNI SAME\n",
        "\"\"\"\n",
        "Epoch [1/10], Loss: 0.9273\n",
        "Epoch [2/10], Loss: 0.5728\n",
        "Epoch [3/10], Loss: 0.5178\n",
        "Epoch [4/10], Loss: 0.4903\n",
        "Epoch [5/10], Loss: 0.4656\n",
        "Epoch [6/10], Loss: 0.4506\n",
        "Epoch [7/10], Loss: 0.4349\n",
        "Epoch [8/10], Loss: 0.4259\n",
        "Epoch [9/10], Loss: 0.4133\n",
        "Epoch [10/10], Loss: 0.4073\n",
        "Accuracy: 83.36 %\n",
        "\"\"\"\n",
        "# BATCH_SIZE = 64, LR = 0.005, EPOCH = 10, DROUPOUT = 0.5, OSTATNI SAME\n",
        "\"\"\"\n",
        "Epoch [1/10], Loss: 1.0222\n",
        "Epoch [2/10], Loss: 0.6128\n",
        "Epoch [3/10], Loss: 0.5595\n",
        "Epoch [4/10], Loss: 0.5279\n",
        "Epoch [5/10], Loss: 0.5062\n",
        "Epoch [6/10], Loss: 0.4890\n",
        "Epoch [7/10], Loss: 0.4747\n",
        "Epoch [8/10], Loss: 0.4607\n",
        "Epoch [9/10], Loss: 0.4539\n",
        "Epoch [10/10], Loss: 0.4398\n",
        "ccuracy: 82.78 %\n",
        "\"\"\"\n",
        "\n",
        "# BATCH_SIZE = 64, LR = 0.005, EPOCH = 10, DROUPOUT = 0.15, OSTATNI SAME\n",
        "\"\"\"\n",
        "Epoch [1/10], Loss: 0.8669\n",
        "Epoch [2/10], Loss: 0.5521\n",
        "Epoch [3/10], Loss: 0.4961\n",
        "Epoch [4/10], Loss: 0.4619\n",
        "Epoch [5/10], Loss: 0.4403\n",
        "Epoch [6/10], Loss: 0.4237\n",
        "Epoch [7/10], Loss: 0.4084\n",
        "Epoch [8/10], Loss: 0.3974\n",
        "Epoch [9/10], Loss: 0.3892\n",
        "Epoch [10/10], Loss: 0.3755\n",
        "Accuracy: 84.71 %\n",
        "\"\"\"\n",
        "\n",
        "# BATCH_SIZE = 64, LR = 0.005, EPOCH = 15, DROUPOUT = 0.15, OSTATNI SAME\n",
        "\"\"\"\n",
        "Epoch [1/15], Loss: 0.9376\n",
        "Epoch [2/15], Loss: 0.5683\n",
        "Epoch [3/15], Loss: 0.5113\n",
        "Epoch [4/15], Loss: 0.4775\n",
        "Epoch [5/15], Loss: 0.4556\n",
        "Epoch [6/15], Loss: 0.4376\n",
        "Epoch [7/15], Loss: 0.4213\n",
        "Epoch [8/15], Loss: 0.4109\n",
        "Epoch [9/15], Loss: 0.4017\n",
        "Epoch [10/15], Loss: 0.3910\n",
        "Epoch [11/15], Loss: 0.3840\n",
        "Epoch [12/15], Loss: 0.3761\n",
        "Epoch [13/15], Loss: 0.3693\n",
        "Epoch [14/15], Loss: 0.3632\n",
        "Epoch [15/15], Loss: 0.3572\n",
        "Accuracy: 83.60 %\n",
        "\"\"\"\n",
        "\n",
        "# BATCH_SIZE = 64, LR = 0.075, EPOCH = 5, DROPOUT = 0.15, OSTATNI SAME\n",
        "\"\"\"\n",
        "Epoch [1/5], Loss: 0.6257\n",
        "Epoch [2/5], Loss: 0.3858\n",
        "Epoch [3/5], Loss: 0.3237\n",
        "Epoch [4/5], Loss: 0.2844\n",
        "Epoch [5/5], Loss: 0.2555\n",
        "Accuracy: 89.31 %\n",
        "\"\"\"\n",
        "\n",
        "# BATCH_SIZE = 64, LR = 0.075, EPOCH = 10, DROPOUT = 0.15, OSTATNI SAME\n",
        "\"\"\"\n",
        "Epoch [1/10], Loss: 0.6077\n",
        "Epoch [2/10], Loss: 0.3780\n",
        "Epoch [3/10], Loss: 0.3201\n",
        "Epoch [4/10], Loss: 0.2833\n",
        "Epoch [5/10], Loss: 0.2551\n",
        "Epoch [6/10], Loss: 0.2287\n",
        "Epoch [7/10], Loss: 0.2058\n",
        "Epoch [8/10], Loss: 0.1872\n",
        "Epoch [9/10], Loss: 0.1689\n",
        "Epoch [10/10], Loss: 0.1493\n",
        "Accuracy: 90.22 %\n",
        "\"\"\"\n",
        "\n",
        "# Z PUVODNICH 78.5 % NA 90.2 %"
      ]
    }
  ],
  "metadata": {
    "accelerator": "GPU",
    "colab": {
      "gpuType": "T4",
      "provenance": []
    },
    "kernelspec": {
      "display_name": "Python 3",
      "name": "python3"
    },
    "language_info": {
      "name": "python"
    }
  },
  "nbformat": 4,
  "nbformat_minor": 0
}
